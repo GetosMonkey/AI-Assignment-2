{
 "cells": [
  {
   "cell_type": "markdown",
   "id": "77afd8b1-d66c-4b17-8561-e5950d26317b",
   "metadata": {},
   "source": [
    "#CSC2042S 2025\n",
    "## Assignment 2\n",
    "## Perceptron Image Classification\n",
    "### Maryam Abrahams (ABRMAR043)"
   ]
  },
  {
   "cell_type": "code",
   "execution_count": null,
   "id": "111b4480-88c1-4c80-af0b-0a8b6e5c6959",
   "metadata": {},
   "outputs": [],
   "source": [
    "# Imprts and Setup\n"
   ]
  },
  {
   "cell_type": "markdown",
   "id": "b089cbfc-1c2d-4216-b526-6d5f0fc7c837",
   "metadata": {},
   "source": [
    "## Task 1: Data Processing"
   ]
  },
  {
   "cell_type": "code",
   "execution_count": null,
   "id": "03950d65-8088-4a4a-ba8f-0b62a7b4e7d6",
   "metadata": {},
   "outputs": [],
   "source": []
  },
  {
   "cell_type": "markdown",
   "id": "880ff38c-7bfb-44cd-9944-1c67e334ad52",
   "metadata": {},
   "source": [
    "## Task 2: Multi-class Perceptron Implementation"
   ]
  },
  {
   "cell_type": "code",
   "execution_count": null,
   "id": "4fa2f5cf-fb99-4565-8d3b-0c2b361b1fad",
   "metadata": {},
   "outputs": [],
   "source": []
  },
  {
   "cell_type": "markdown",
   "id": "52ab158e-9b03-449d-9afc-d301a1736d78",
   "metadata": {},
   "source": [
    "## Task 3: Training "
   ]
  },
  {
   "cell_type": "code",
   "execution_count": null,
   "id": "17064c51-7cdd-40de-8416-a88576aca03b",
   "metadata": {},
   "outputs": [],
   "source": []
  },
  {
   "cell_type": "markdown",
   "id": "4c4958e2-ad48-463e-ac5c-35663fbc9443",
   "metadata": {},
   "source": [
    "## Task 4: Hyperparameter tuning "
   ]
  },
  {
   "cell_type": "code",
   "execution_count": null,
   "id": "629cc768-b344-4593-9ede-907581e89ce1",
   "metadata": {},
   "outputs": [],
   "source": []
  },
  {
   "cell_type": "markdown",
   "id": "6d33a4cc-39cc-4f2b-b74b-19c33f5bfd00",
   "metadata": {},
   "source": [
    "## Task 5: Evaluation"
   ]
  },
  {
   "cell_type": "code",
   "execution_count": null,
   "id": "81137e62-bc52-48ff-af93-02c46fbecea9",
   "metadata": {},
   "outputs": [],
   "source": []
  },
  {
   "cell_type": "markdown",
   "id": "0bfcc0fe-79ed-49d8-bd52-964a6abb0577",
   "metadata": {},
   "source": [
    "## Task 6: RGB vs Grayscale analysis"
   ]
  },
  {
   "cell_type": "code",
   "execution_count": null,
   "id": "82b18872-a90c-4434-8b84-1d5b72bbc12e",
   "metadata": {},
   "outputs": [],
   "source": []
  }
 ],
 "metadata": {
  "kernelspec": {
   "display_name": "Python 3 (ipykernel)",
   "language": "python",
   "name": "python3"
  },
  "language_info": {
   "codemirror_mode": {
    "name": "ipython",
    "version": 3
   },
   "file_extension": ".py",
   "mimetype": "text/x-python",
   "name": "python",
   "nbconvert_exporter": "python",
   "pygments_lexer": "ipython3",
   "version": "3.10.5"
  }
 },
 "nbformat": 4,
 "nbformat_minor": 5
}
